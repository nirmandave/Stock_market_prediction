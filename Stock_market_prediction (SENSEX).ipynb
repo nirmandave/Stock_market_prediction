{
 "cells": [
  {
   "cell_type": "code",
   "execution_count": 1,
   "id": "0ea813cf",
   "metadata": {},
   "outputs": [],
   "source": [
    "#Developing model to predicting stock market indices (Sensex).\n",
    "#were we will perform 5 major step of analysis:\n",
    "    #1. Loading data.\n",
    "    #2. Clean/manipulate data.\n",
    "    #3. prepare the data for modeling.\n",
    "    #4. Modelin.\n",
    "    #5. Analyse the data."
   ]
  },
  {
   "cell_type": "code",
   "execution_count": 2,
   "id": "9aa36e01",
   "metadata": {},
   "outputs": [],
   "source": [
    "#As we taking stock market data, so we have output as continous numeric\n",
    "#thus we will use Regression Algorithms "
   ]
  },
  {
   "cell_type": "code",
   "execution_count": 3,
   "id": "653502ba",
   "metadata": {},
   "outputs": [],
   "source": [
    "#importing basic library\n",
    "import numpy as np\n",
    "import pandas as pd\n",
    "import seaborn as sb\n",
    "import matplotlib.pyplot as plt\n",
    "import warnings\n",
    "warnings.filterwarnings(\"ignore\")"
   ]
  },
  {
   "cell_type": "code",
   "execution_count": 4,
   "id": "03edb970",
   "metadata": {},
   "outputs": [],
   "source": [
    "#loading the dataset\n",
    "df=pd.read_csv(\"sensex_data.csv\")"
   ]
  },
  {
   "cell_type": "code",
   "execution_count": 5,
   "id": "fcbe13d4",
   "metadata": {},
   "outputs": [
    {
     "data": {
      "text/html": [
       "<div>\n",
       "<style scoped>\n",
       "    .dataframe tbody tr th:only-of-type {\n",
       "        vertical-align: middle;\n",
       "    }\n",
       "\n",
       "    .dataframe tbody tr th {\n",
       "        vertical-align: top;\n",
       "    }\n",
       "\n",
       "    .dataframe thead th {\n",
       "        text-align: right;\n",
       "    }\n",
       "</style>\n",
       "<table border=\"1\" class=\"dataframe\">\n",
       "  <thead>\n",
       "    <tr style=\"text-align: right;\">\n",
       "      <th></th>\n",
       "      <th>Date</th>\n",
       "      <th>Open</th>\n",
       "      <th>High</th>\n",
       "      <th>Low</th>\n",
       "      <th>Close</th>\n",
       "    </tr>\n",
       "  </thead>\n",
       "  <tbody>\n",
       "    <tr>\n",
       "      <th>0</th>\n",
       "      <td>22-Nov-17</td>\n",
       "      <td>33569.07</td>\n",
       "      <td>33654.53</td>\n",
       "      <td>33465.23</td>\n",
       "      <td>33561.55</td>\n",
       "    </tr>\n",
       "    <tr>\n",
       "      <th>1</th>\n",
       "      <td>23-Nov-17</td>\n",
       "      <td>33575.91</td>\n",
       "      <td>33670.19</td>\n",
       "      <td>33468.30</td>\n",
       "      <td>33588.08</td>\n",
       "    </tr>\n",
       "    <tr>\n",
       "      <th>2</th>\n",
       "      <td>24-Nov-17</td>\n",
       "      <td>33670.00</td>\n",
       "      <td>33738.53</td>\n",
       "      <td>33639.98</td>\n",
       "      <td>33679.24</td>\n",
       "    </tr>\n",
       "    <tr>\n",
       "      <th>3</th>\n",
       "      <td>27-Nov-17</td>\n",
       "      <td>33640.51</td>\n",
       "      <td>33745.17</td>\n",
       "      <td>33540.46</td>\n",
       "      <td>33724.44</td>\n",
       "    </tr>\n",
       "    <tr>\n",
       "      <th>4</th>\n",
       "      <td>28-Nov-17</td>\n",
       "      <td>33726.65</td>\n",
       "      <td>33770.15</td>\n",
       "      <td>33576.65</td>\n",
       "      <td>33618.59</td>\n",
       "    </tr>\n",
       "  </tbody>\n",
       "</table>\n",
       "</div>"
      ],
      "text/plain": [
       "        Date      Open      High       Low     Close\n",
       "0  22-Nov-17  33569.07  33654.53  33465.23  33561.55\n",
       "1  23-Nov-17  33575.91  33670.19  33468.30  33588.08\n",
       "2  24-Nov-17  33670.00  33738.53  33639.98  33679.24\n",
       "3  27-Nov-17  33640.51  33745.17  33540.46  33724.44\n",
       "4  28-Nov-17  33726.65  33770.15  33576.65  33618.59"
      ]
     },
     "execution_count": 5,
     "metadata": {},
     "output_type": "execute_result"
    }
   ],
   "source": [
    "#first look at data \n",
    "df.head()"
   ]
  },
  {
   "cell_type": "code",
   "execution_count": 6,
   "id": "b3f882ed",
   "metadata": {},
   "outputs": [
    {
     "data": {
      "image/png": "[encoded data removed]",
      "text/plain": [
       "<Figure size 432x288 with 2 Axes>"
      ]
     },
     "metadata": {
      "needs_background": "light"
     },
     "output_type": "display_data"
    }
   ],
   "source": [
    "#checking null values with visualization\n",
    "sb.heatmap(df.isnull())\n",
    "plt.show()"
   ]
  },
  {
   "cell_type": "code",
   "execution_count": 7,
   "id": "6e7c3182",
   "metadata": {},
   "outputs": [
    {
     "data": {
      "text/plain": [
       "Date     0\n",
       "Open     0\n",
       "High     0\n",
       "Low      0\n",
       "Close    0\n",
       "dtype: int64"
      ]
     },
     "execution_count": 7,
     "metadata": {},
     "output_type": "execute_result"
    }
   ],
   "source": [
    "df.isnull().sum()\n",
    "#here we can see thier is no null values present in data"
   ]
  },
  {
   "cell_type": "code",
   "execution_count": 8,
   "id": "e45a72c0",
   "metadata": {},
   "outputs": [
    {
     "data": {
      "text/plain": [
       "0"
      ]
     },
     "execution_count": 8,
     "metadata": {},
     "output_type": "execute_result"
    }
   ],
   "source": [
    "#checking duplicate values\n",
    "df.duplicated().sum()"
   ]
  },
  {
   "cell_type": "code",
   "execution_count": 9,
   "id": "27a1d206",
   "metadata": {},
   "outputs": [
    {
     "data": {
      "text/plain": [
       "<AxesSubplot:xlabel='Close'>"
      ]
     },
     "execution_count": 9,
     "metadata": {},
     "output_type": "execute_result"
    },
    {
     "data": {
      "image/png": "[encoded data removed]",
      "text/plain": [
       "<Figure size 432x288 with 1 Axes>"
      ]
     },
     "metadata": {
      "needs_background": "light"
     },
     "output_type": "display_data"
    }
   ],
   "source": [
    "#checking for outlier \n",
    "sb.boxplot(data=df,x='Close')"
   ]
  },
  {
   "cell_type": "code",
   "execution_count": 10,
   "id": "bbf76a1d",
   "metadata": {},
   "outputs": [
    {
     "data": {
      "text/plain": [
       "Index(['Date', 'Open', 'High', 'Low', 'Close'], dtype='object')"
      ]
     },
     "execution_count": 10,
     "metadata": {},
     "output_type": "execute_result"
    }
   ],
   "source": [
    "df.columns"
   ]
  },
  {
   "cell_type": "code",
   "execution_count": 11,
   "id": "51423af9",
   "metadata": {},
   "outputs": [],
   "source": [
    "#coverting data type of date from object to datetime\n",
    "df['Date']=pd.to_datetime(df['Date'])"
   ]
  },
  {
   "cell_type": "code",
   "execution_count": 12,
   "id": "54adda60",
   "metadata": {},
   "outputs": [
    {
     "data": {
      "text/plain": [
       "<AxesSubplot:xlabel='Close', ylabel='Count'>"
      ]
     },
     "execution_count": 12,
     "metadata": {},
     "output_type": "execute_result"
    },
    {
     "data": {
      "image/png": "[encoded data removed]",
      "text/plain": [
       "<Figure size 432x288 with 1 Axes>"
      ]
     },
     "metadata": {
      "needs_background": "light"
     },
     "output_type": "display_data"
    }
   ],
   "source": [
    "#visualizing df['Close'] records to see distribution of data\n",
    "sb.histplot(data=df,x='Close')"
   ]
  },
  {
   "cell_type": "code",
   "execution_count": 13,
   "id": "db3a2609",
   "metadata": {},
   "outputs": [
    {
     "data": {
      "text/html": [
       "<style type=\"text/css\">\n",
       "#T_d8065_row0_col0, #T_d8065_row0_col1, #T_d8065_row0_col2, #T_d8065_row0_col3 {\n",
       "  background-color: #fff7fb;\n",
       "  color: #000000;\n",
       "}\n",
       "#T_d8065_row1_col0, #T_d8065_row1_col1, #T_d8065_row1_col2, #T_d8065_row1_col3 {\n",
       "  background-color: #167bb6;\n",
       "  color: #f1f1f1;\n",
       "}\n",
       "#T_d8065_row2_col0, #T_d8065_row2_col1, #T_d8065_row2_col2, #T_d8065_row2_col3 {\n",
       "  background-color: #e9e5f1;\n",
       "  color: #000000;\n",
       "}\n",
       "#T_d8065_row3_col0 {\n",
       "  background-color: #96b6d7;\n",
       "  color: #000000;\n",
       "}\n",
       "#T_d8065_row3_col1 {\n",
       "  background-color: #8fb4d6;\n",
       "  color: #000000;\n",
       "}\n",
       "#T_d8065_row3_col2 {\n",
       "  background-color: #9ab8d8;\n",
       "  color: #000000;\n",
       "}\n",
       "#T_d8065_row3_col3 {\n",
       "  background-color: #99b8d8;\n",
       "  color: #000000;\n",
       "}\n",
       "#T_d8065_row4_col0, #T_d8065_row4_col2, #T_d8065_row4_col3 {\n",
       "  background-color: #509ac6;\n",
       "  color: #f1f1f1;\n",
       "}\n",
       "#T_d8065_row4_col1 {\n",
       "  background-color: #4e9ac6;\n",
       "  color: #f1f1f1;\n",
       "}\n",
       "#T_d8065_row5_col0, #T_d8065_row5_col1, #T_d8065_row5_col3 {\n",
       "  background-color: #328dbf;\n",
       "  color: #f1f1f1;\n",
       "}\n",
       "#T_d8065_row5_col2 {\n",
       "  background-color: #348ebf;\n",
       "  color: #f1f1f1;\n",
       "}\n",
       "#T_d8065_row6_col0 {\n",
       "  background-color: #045e94;\n",
       "  color: #f1f1f1;\n",
       "}\n",
       "#T_d8065_row6_col1, #T_d8065_row6_col2, #T_d8065_row6_col3 {\n",
       "  background-color: #045e93;\n",
       "  color: #f1f1f1;\n",
       "}\n",
       "#T_d8065_row7_col0, #T_d8065_row7_col1, #T_d8065_row7_col2, #T_d8065_row7_col3 {\n",
       "  background-color: #023858;\n",
       "  color: #f1f1f1;\n",
       "}\n",
       "</style>\n",
       "<table id=\"T_d8065\">\n",
       "  <thead>\n",
       "    <tr>\n",
       "      <th class=\"blank level0\" >&nbsp;</th>\n",
       "      <th id=\"T_d8065_level0_col0\" class=\"col_heading level0 col0\" >Open</th>\n",
       "      <th id=\"T_d8065_level0_col1\" class=\"col_heading level0 col1\" >High</th>\n",
       "      <th id=\"T_d8065_level0_col2\" class=\"col_heading level0 col2\" >Low</th>\n",
       "      <th id=\"T_d8065_level0_col3\" class=\"col_heading level0 col3\" >Close</th>\n",
       "    </tr>\n",
       "  </thead>\n",
       "  <tbody>\n",
       "    <tr>\n",
       "      <th id=\"T_d8065_level0_row0\" class=\"row_heading level0 row0\" >count</th>\n",
       "      <td id=\"T_d8065_row0_col0\" class=\"data row0 col0\" >1237.000000</td>\n",
       "      <td id=\"T_d8065_row0_col1\" class=\"data row0 col1\" >1237.000000</td>\n",
       "      <td id=\"T_d8065_row0_col2\" class=\"data row0 col2\" >1237.000000</td>\n",
       "      <td id=\"T_d8065_row0_col3\" class=\"data row0 col3\" >1237.000000</td>\n",
       "    </tr>\n",
       "    <tr>\n",
       "      <th id=\"T_d8065_level0_row1\" class=\"row_heading level0 row1\" >mean</th>\n",
       "      <td id=\"T_d8065_row1_col0\" class=\"data row1 col0\" >44081.375327</td>\n",
       "      <td id=\"T_d8065_row1_col1\" class=\"data row1 col1\" >44308.526467</td>\n",
       "      <td id=\"T_d8065_row1_col2\" class=\"data row1 col2\" >43757.179086</td>\n",
       "      <td id=\"T_d8065_row1_col3\" class=\"data row1 col3\" >44033.667922</td>\n",
       "    </tr>\n",
       "    <tr>\n",
       "      <th id=\"T_d8065_level0_row2\" class=\"row_heading level0 row2\" >std</th>\n",
       "      <td id=\"T_d8065_row2_col0\" class=\"data row2 col0\" >9572.969201</td>\n",
       "      <td id=\"T_d8065_row2_col1\" class=\"data row2 col1\" >9609.033775</td>\n",
       "      <td id=\"T_d8065_row2_col2\" class=\"data row2 col2\" >9540.802564</td>\n",
       "      <td id=\"T_d8065_row2_col3\" class=\"data row2 col3\" >9585.148042</td>\n",
       "    </tr>\n",
       "    <tr>\n",
       "      <th id=\"T_d8065_level0_row3\" class=\"row_heading level0 row3\" >min</th>\n",
       "      <td id=\"T_d8065_row3_col0\" class=\"data row3 col0\" >26499.810000</td>\n",
       "      <td id=\"T_d8065_row3_col1\" class=\"data row3 col1\" >27462.870000</td>\n",
       "      <td id=\"T_d8065_row3_col2\" class=\"data row3 col2\" >25638.900000</td>\n",
       "      <td id=\"T_d8065_row3_col3\" class=\"data row3 col3\" >25981.240000</td>\n",
       "    </tr>\n",
       "    <tr>\n",
       "      <th id=\"T_d8065_level0_row4\" class=\"row_heading level0 row4\" >25%</th>\n",
       "      <td id=\"T_d8065_row4_col0\" class=\"data row4 col0\" >36181.370000</td>\n",
       "      <td id=\"T_d8065_row4_col1\" class=\"data row4 col1\" >36285.460000</td>\n",
       "      <td id=\"T_d8065_row4_col2\" class=\"data row4 col2\" >35926.940000</td>\n",
       "      <td id=\"T_d8065_row4_col3\" class=\"data row4 col3\" >36093.470000</td>\n",
       "    </tr>\n",
       "    <tr>\n",
       "      <th id=\"T_d8065_level0_row5\" class=\"row_heading level0 row5\" >50%</th>\n",
       "      <td id=\"T_d8065_row5_col0\" class=\"data row5 col0\" >39806.860000</td>\n",
       "      <td id=\"T_d8065_row5_col1\" class=\"data row5 col1\" >39979.480000</td>\n",
       "      <td id=\"T_d8065_row5_col2\" class=\"data row5 col2\" >39499.190000</td>\n",
       "      <td id=\"T_d8065_row5_col3\" class=\"data row5 col3\" >39749.730000</td>\n",
       "    </tr>\n",
       "    <tr>\n",
       "      <th id=\"T_d8065_level0_row6\" class=\"row_heading level0 row6\" >75%</th>\n",
       "      <td id=\"T_d8065_row6_col0\" class=\"data row6 col0\" >53065.690000</td>\n",
       "      <td id=\"T_d8065_row6_col1\" class=\"data row6 col1\" >53301.400000</td>\n",
       "      <td id=\"T_d8065_row6_col2\" class=\"data row6 col2\" >52751.760000</td>\n",
       "      <td id=\"T_d8065_row6_col3\" class=\"data row6 col3\" >53018.940000</td>\n",
       "    </tr>\n",
       "    <tr>\n",
       "      <th id=\"T_d8065_level0_row7\" class=\"row_heading level0 row7\" >max</th>\n",
       "      <td id=\"T_d8065_row7_col0\" class=\"data row7 col0\" >62156.480000</td>\n",
       "      <td id=\"T_d8065_row7_col1\" class=\"data row7 col1\" >62245.430000</td>\n",
       "      <td id=\"T_d8065_row7_col2\" class=\"data row7 col2\" >61708.630000</td>\n",
       "      <td id=\"T_d8065_row7_col3\" class=\"data row7 col3\" >61980.720000</td>\n",
       "    </tr>\n",
       "  </tbody>\n",
       "</table>\n"
      ],
      "text/plain": [
       "<pandas.io.formats.style.Styler at 0x222caa07f40>"
      ]
     },
     "execution_count": 13,
     "metadata": {},
     "output_type": "execute_result"
    }
   ],
   "source": [
    "df.describe().style.background_gradient()"
   ]
  },
  {
   "cell_type": "code",
   "execution_count": 14,
   "id": "7eb11809",
   "metadata": {},
   "outputs": [
    {
     "data": {
      "image/png": "[encoded data removed]",
      "text/plain": [
       "<Figure size 720x504 with 1 Axes>"
      ]
     },
     "metadata": {
      "needs_background": "light"
     },
     "output_type": "display_data"
    }
   ],
   "source": [
    "#ploting time series chart \n",
    "df.plot(figsize=(10, 7),x='Date',y='Close',kind='line')\n",
    "plt.title(\"SENSEX Price\", fontsize=17)\n",
    "plt.ylabel('Price', fontsize=14)\n",
    "plt.xlabel('Time', fontsize=14)\n",
    "#plt.grid(which=\"major\", color='k', linestyle='-.', linewidth=0.5)\n",
    "plt.show()"
   ]
  },
  {
   "cell_type": "code",
   "execution_count": 15,
   "id": "b0af4bb4",
   "metadata": {},
   "outputs": [],
   "source": [
    "#selecting input(faeture) and output(target)\n",
    "X=df.drop('Close',axis=1) #input\n",
    "Y=df['Close']   #output"
   ]
  },
  {
   "cell_type": "code",
   "execution_count": 16,
   "id": "0bd609af",
   "metadata": {},
   "outputs": [
    {
     "data": {
      "text/plain": [
       "Index(['Date', 'Open', 'High', 'Low'], dtype='object')"
      ]
     },
     "execution_count": 16,
     "metadata": {},
     "output_type": "execute_result"
    }
   ],
   "source": [
    "X.columns"
   ]
  },
  {
   "cell_type": "code",
   "execution_count": 17,
   "id": "6ee20862",
   "metadata": {},
   "outputs": [],
   "source": [
    "#preparing data for train test split\n",
    "def traintestsplit(data):\n",
    "    data_len=data.shape[0]\n",
    "    train_split = int(data_len * 0.7)\n",
    "    print('Train_split: ',train_split)\n",
    "    test_split = data_len - train_split\n",
    "    print('Test_split: ',test_split)\n",
    "    \n",
    "    X_train = X[:train_split]\n",
    "    X_test = X[train_split:]\n",
    "    \n",
    "    Y_train = Y[:train_split]\n",
    "    Y_test = Y[train_split:]\n",
    "    return X_train,X_test,Y_train,Y_test"
   ]
  },
  {
   "cell_type": "code",
   "execution_count": 18,
   "id": "849d309d",
   "metadata": {},
   "outputs": [
    {
     "name": "stdout",
     "output_type": "stream",
     "text": [
      "Train_split:  865\n",
      "Test_split:  372\n"
     ]
    }
   ],
   "source": [
    "#calling the function\n",
    "X_train,X_test,Y_train,Y_test = traintestsplit(df)"
   ]
  },
  {
   "cell_type": "code",
   "execution_count": 19,
   "id": "003f7a78",
   "metadata": {},
   "outputs": [
    {
     "data": {
      "text/plain": [
       "((865, 4), (372, 4), (865,), (372,))"
      ]
     },
     "execution_count": 19,
     "metadata": {},
     "output_type": "execute_result"
    }
   ],
   "source": [
    "X_train.shape,X_test.shape,Y_train.shape,Y_test.shape"
   ]
  },
  {
   "cell_type": "code",
   "execution_count": 20,
   "id": "fe13c6b8",
   "metadata": {},
   "outputs": [],
   "source": [
    "#applying standardScaler to make value in one unit \n",
    "from sklearn.preprocessing import StandardScaler\n",
    "\n",
    "#creating object of StandardScaler class\n",
    "ss=StandardScaler()\n",
    "\n",
    "X_train = ss.fit_transform(X_train[['Open','High','Low']])\n",
    "X_test = ss.transform(X_test[['Open','High','Low']])"
   ]
  },
  {
   "cell_type": "code",
   "execution_count": 21,
   "id": "a6265c57",
   "metadata": {},
   "outputs": [],
   "source": [
    "#performing model with linear regression algorithm\n",
    "from sklearn.linear_model import LinearRegression"
   ]
  },
  {
   "cell_type": "code",
   "execution_count": 22,
   "id": "dfde0222",
   "metadata": {},
   "outputs": [],
   "source": [
    "#creating object of LinearRegresion class\n",
    "lr=LinearRegression()"
   ]
  },
  {
   "cell_type": "code",
   "execution_count": 23,
   "id": "c8288b89",
   "metadata": {},
   "outputs": [
    {
     "data": {
      "text/html": [
       "<style>#sk-container-id-1 {color: black;background-color: white;}#sk-container-id-1 pre{padding: 0;}#sk-container-id-1 div.sk-toggleable {background-color: white;}#sk-container-id-1 label.sk-toggleable__label {cursor: pointer;display: block;width: 100%;margin-bottom: 0;padding: 0.3em;box-sizing: border-box;text-align: center;}#sk-container-id-1 label.sk-toggleable__label-arrow:before {content: \"▸\";float: left;margin-right: 0.25em;color: #696969;}#sk-container-id-1 label.sk-toggleable__label-arrow:hover:before {color: black;}#sk-container-id-1 div.sk-estimator:hover label.sk-toggleable__label-arrow:before {color: black;}#sk-container-id-1 div.sk-toggleable__content {max-height: 0;max-width: 0;overflow: hidden;text-align: left;background-color: #f0f8ff;}#sk-container-id-1 div.sk-toggleable__content pre {margin: 0.2em;color: black;border-radius: 0.25em;background-color: #f0f8ff;}#sk-container-id-1 input.sk-toggleable__control:checked~div.sk-toggleable__content {max-height: 200px;max-width: 100%;overflow: auto;}#sk-container-id-1 input.sk-toggleable__control:checked~label.sk-toggleable__label-arrow:before {content: \"▾\";}#sk-container-id-1 div.sk-estimator input.sk-toggleable__control:checked~label.sk-toggleable__label {background-color: #d4ebff;}#sk-container-id-1 div.sk-label input.sk-toggleable__control:checked~label.sk-toggleable__label {background-color: #d4ebff;}#sk-container-id-1 input.sk-hidden--visually {border: 0;clip: rect(1px 1px 1px 1px);clip: rect(1px, 1px, 1px, 1px);height: 1px;margin: -1px;overflow: hidden;padding: 0;position: absolute;width: 1px;}#sk-container-id-1 div.sk-estimator {font-family: monospace;background-color: #f0f8ff;border: 1px dotted black;border-radius: 0.25em;box-sizing: border-box;margin-bottom: 0.5em;}#sk-container-id-1 div.sk-estimator:hover {background-color: #d4ebff;}#sk-container-id-1 div.sk-parallel-item::after {content: \"\";width: 100%;border-bottom: 1px solid gray;flex-grow: 1;}#sk-container-id-1 div.sk-label:hover label.sk-toggleable__label {background-color: #d4ebff;}#sk-container-id-1 div.sk-serial::before {content: \"\";position: absolute;border-left: 1px solid gray;box-sizing: border-box;top: 0;bottom: 0;left: 50%;z-index: 0;}#sk-container-id-1 div.sk-serial {display: flex;flex-direction: column;align-items: center;background-color: white;padding-right: 0.2em;padding-left: 0.2em;position: relative;}#sk-container-id-1 div.sk-item {position: relative;z-index: 1;}#sk-container-id-1 div.sk-parallel {display: flex;align-items: stretch;justify-content: center;background-color: white;position: relative;}#sk-container-id-1 div.sk-item::before, #sk-container-id-1 div.sk-parallel-item::before {content: \"\";position: absolute;border-left: 1px solid gray;box-sizing: border-box;top: 0;bottom: 0;left: 50%;z-index: -1;}#sk-container-id-1 div.sk-parallel-item {display: flex;flex-direction: column;z-index: 1;position: relative;background-color: white;}#sk-container-id-1 div.sk-parallel-item:first-child::after {align-self: flex-end;width: 50%;}#sk-container-id-1 div.sk-parallel-item:last-child::after {align-self: flex-start;width: 50%;}#sk-container-id-1 div.sk-parallel-item:only-child::after {width: 0;}#sk-container-id-1 div.sk-dashed-wrapped {border: 1px dashed gray;margin: 0 0.4em 0.5em 0.4em;box-sizing: border-box;padding-bottom: 0.4em;background-color: white;}#sk-container-id-1 div.sk-label label {font-family: monospace;font-weight: bold;display: inline-block;line-height: 1.2em;}#sk-container-id-1 div.sk-label-container {text-align: center;}#sk-container-id-1 div.sk-container {/* jupyter's `normalize.less` sets `[hidden] { display: none; }` but bootstrap.min.css set `[hidden] { display: none !important; }` so we also need the `!important` here to be able to override the default hidden behavior on the sphinx rendered scikit-learn.org. See: https://github.com/scikit-learn/scikit-learn/issues/21755 */display: inline-block !important;position: relative;}#sk-container-id-1 div.sk-text-repr-fallback {display: none;}</style><div id=\"sk-container-id-1\" class=\"sk-top-container\"><div class=\"sk-text-repr-fallback\"><pre>LinearRegression()</pre><b>In a Jupyter environment, please rerun this cell to show the HTML representation or trust the notebook. <br />On GitHub, the HTML representation is unable to render, please try loading this page with nbviewer.org.</b></div><div class=\"sk-container\" hidden><div class=\"sk-item\"><div class=\"sk-estimator sk-toggleable\"><input class=\"sk-toggleable__control sk-hidden--visually\" id=\"sk-estimator-id-1\" type=\"checkbox\" checked><label for=\"sk-estimator-id-1\" class=\"sk-toggleable__label sk-toggleable__label-arrow\">LinearRegression</label><div class=\"sk-toggleable__content\"><pre>LinearRegression()</pre></div></div></div></div></div>"
      ],
      "text/plain": [
       "LinearRegression()"
      ]
     },
     "execution_count": 23,
     "metadata": {},
     "output_type": "execute_result"
    }
   ],
   "source": [
    "#training model with 70% data using linear regression\n",
    "lr.fit(X_train,Y_train)"
   ]
  },
  {
   "cell_type": "code",
   "execution_count": 24,
   "id": "0256e645",
   "metadata": {},
   "outputs": [
    {
     "name": "stdout",
     "output_type": "stream",
     "text": [
      "[-3787.62199858  4828.73041444  3976.97524787]\n"
     ]
    }
   ],
   "source": [
    "#checking slope\n",
    "s=lr.coef_\n",
    "print(s)"
   ]
  },
  {
   "cell_type": "code",
   "execution_count": 25,
   "id": "b0d5bc1a",
   "metadata": {},
   "outputs": [
    {
     "name": "stdout",
     "output_type": "stream",
     "text": [
      "38481.45927167631\n"
     ]
    }
   ],
   "source": [
    "#checking intercept\n",
    "i=lr.intercept_\n",
    "print(i)"
   ]
  },
  {
   "cell_type": "code",
   "execution_count": 26,
   "id": "d802fc5d",
   "metadata": {},
   "outputs": [],
   "source": [
    "#testing model with 30% data\n",
    "Y_pred = lr.predict(X_test)"
   ]
  },
  {
   "cell_type": "code",
   "execution_count": 27,
   "id": "809a27dc",
   "metadata": {},
   "outputs": [
    {
     "data": {
      "text/html": [
       "<div>\n",
       "<style scoped>\n",
       "    .dataframe tbody tr th:only-of-type {\n",
       "        vertical-align: middle;\n",
       "    }\n",
       "\n",
       "    .dataframe tbody tr th {\n",
       "        vertical-align: top;\n",
       "    }\n",
       "\n",
       "    .dataframe thead th {\n",
       "        text-align: right;\n",
       "    }\n",
       "</style>\n",
       "<table border=\"1\" class=\"dataframe\">\n",
       "  <thead>\n",
       "    <tr style=\"text-align: right;\">\n",
       "      <th></th>\n",
       "      <th>Actual</th>\n",
       "      <th>Predict</th>\n",
       "    </tr>\n",
       "  </thead>\n",
       "  <tbody>\n",
       "    <tr>\n",
       "      <th>973</th>\n",
       "      <td>59984.70</td>\n",
       "      <td>60089.067406</td>\n",
       "    </tr>\n",
       "    <tr>\n",
       "      <th>1068</th>\n",
       "      <td>56816.65</td>\n",
       "      <td>56750.526507</td>\n",
       "    </tr>\n",
       "    <tr>\n",
       "      <th>1158</th>\n",
       "      <td>55268.49</td>\n",
       "      <td>55364.727227</td>\n",
       "    </tr>\n",
       "    <tr>\n",
       "      <th>1082</th>\n",
       "      <td>59610.41</td>\n",
       "      <td>59734.305702</td>\n",
       "    </tr>\n",
       "    <tr>\n",
       "      <th>887</th>\n",
       "      <td>52699.00</td>\n",
       "      <td>52739.851568</td>\n",
       "    </tr>\n",
       "    <tr>\n",
       "      <th>1194</th>\n",
       "      <td>59141.23</td>\n",
       "      <td>59089.383601</td>\n",
       "    </tr>\n",
       "    <tr>\n",
       "      <th>971</th>\n",
       "      <td>61350.26</td>\n",
       "      <td>61357.805431</td>\n",
       "    </tr>\n",
       "    <tr>\n",
       "      <th>1076</th>\n",
       "      <td>57943.65</td>\n",
       "      <td>57891.073476</td>\n",
       "    </tr>\n",
       "    <tr>\n",
       "      <th>1140</th>\n",
       "      <td>53018.94</td>\n",
       "      <td>53373.182991</td>\n",
       "    </tr>\n",
       "    <tr>\n",
       "      <th>946</th>\n",
       "      <td>58490.93</td>\n",
       "      <td>59024.273594</td>\n",
       "    </tr>\n",
       "  </tbody>\n",
       "</table>\n",
       "</div>"
      ],
      "text/plain": [
       "        Actual       Predict\n",
       "973   59984.70  60089.067406\n",
       "1068  56816.65  56750.526507\n",
       "1158  55268.49  55364.727227\n",
       "1082  59610.41  59734.305702\n",
       "887   52699.00  52739.851568\n",
       "1194  59141.23  59089.383601\n",
       "971   61350.26  61357.805431\n",
       "1076  57943.65  57891.073476\n",
       "1140  53018.94  53373.182991\n",
       "946   58490.93  59024.273594"
      ]
     },
     "execution_count": 27,
     "metadata": {},
     "output_type": "execute_result"
    }
   ],
   "source": [
    "#creating new data frame to compare actual value VS predicted value\n",
    "dict={'Actual':Y_test,'Predict':Y_pred}\n",
    "df_new = pd.DataFrame(dict)\n",
    "df_new.sample(10)"
   ]
  },
  {
   "cell_type": "code",
   "execution_count": 28,
   "id": "0e186cdb",
   "metadata": {},
   "outputs": [],
   "source": [
    "#Evaluating model\n",
    "from sklearn.metrics import mean_squared_error,r2_score"
   ]
  },
  {
   "cell_type": "code",
   "execution_count": 29,
   "id": "de85ba91",
   "metadata": {},
   "outputs": [
    {
     "name": "stdout",
     "output_type": "stream",
     "text": [
      "MSE:  32698.826740300603\n",
      "RMSE:  180.82816910067027\n"
     ]
    }
   ],
   "source": [
    "#finding mean squared error \n",
    "mse=mean_squared_error(Y_test,Y_pred)\n",
    "print(\"MSE: \",mse)\n",
    "rmse = np.sqrt(mse)\n",
    "print(\"RMSE: \",rmse)"
   ]
  },
  {
   "cell_type": "code",
   "execution_count": 30,
   "id": "f7fb2d93",
   "metadata": {},
   "outputs": [
    {
     "data": {
      "text/plain": [
       "0.9960643869925654"
      ]
     },
     "execution_count": 30,
     "metadata": {},
     "output_type": "execute_result"
    }
   ],
   "source": [
    "#checking accuracy using r2_score\n",
    "r2_score(Y_test,Y_pred)"
   ]
  },
  {
   "cell_type": "code",
   "execution_count": 38,
   "id": "4253fa70",
   "metadata": {},
   "outputs": [
    {
     "data": {
      "image/png": "[encoded data removed]",
      "text/plain": [
       "<Figure size 1080x504 with 1 Axes>"
      ]
     },
     "metadata": {
      "needs_background": "light"
     },
     "output_type": "display_data"
    }
   ],
   "source": [
    "#visualizing Actual data VS predicted data\n",
    "df_new.plot(figsize=(15,7))\n",
    "plt.title(\"Actual VS Predicted\",fontsize=14)\n",
    "plt.ylabel(\"Price\",fontsize=12)\n",
    "plt.show()"
   ]
  }
 ],
 "metadata": {
  "kernelspec": {
   "display_name": "Python 3 (ipykernel)",
   "language": "python",
   "name": "python3"
  },
  "language_info": {
   "codemirror_mode": {
    "name": "ipython",
    "version": 3
   },
   "file_extension": ".py",
   "mimetype": "text/x-python",
   "name": "python",
   "nbconvert_exporter": "python",
   "pygments_lexer": "ipython3",
   "version": "3.9.12"
  }
 },
 "nbformat": 4,
 "nbformat_minor": 5
}
